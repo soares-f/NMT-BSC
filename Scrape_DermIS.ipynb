{
 "cells": [
  {
   "cell_type": "code",
   "execution_count": 18,
   "metadata": {},
   "outputs": [],
   "source": [
    "import requests\n",
    "from bs4 import BeautifulSoup\n",
    "import dataset\n",
    "import time"
   ]
  },
  {
   "cell_type": "markdown",
   "metadata": {},
   "source": [
    "#### Mining main page containing the diseases"
   ]
  },
  {
   "cell_type": "code",
   "execution_count": 3,
   "metadata": {},
   "outputs": [],
   "source": [
    "# Retrieve the main page with all diseases\n",
    "main_page = requests.get('https://www.dermis.net/dermisroot/es/list/all/search.htm')\n",
    "# Parse into a BS object\n",
    "soup = BeautifulSoup(main_page.text,'html.parser')"
   ]
  },
  {
   "cell_type": "code",
   "execution_count": 15,
   "metadata": {},
   "outputs": [],
   "source": [
    "# Get all diseases in a list\n",
    "all_diseases = soup.find_all(class_='list')\n",
    "\n",
    "# List for disease codes\n",
    "codes = []\n",
    "for disease in all_diseases:\n",
    "    codes.append(disease.get('href').split('/')[-2])\n",
    "\n",
    "languages = ['tr','jp','pt','es','fr','de','en']\n",
    "\n"
   ]
  },
  {
   "cell_type": "markdown",
   "metadata": {},
   "source": [
    "#### Mining individual disease pages"
   ]
  },
  {
   "cell_type": "code",
   "execution_count": 51,
   "metadata": {},
   "outputs": [],
   "source": [
    "def scrape_page(page_id,language):\n",
    "    \"\"\"\n",
    "    Function to scrape individual pages from DermIS\n",
    "    Inputs:\n",
    "        -page_id: The ID of the disease\n",
    "        -language: Language of interest\n",
    "    Output: Dictionary with:\n",
    "        -disease_name: Name of the disease (string)\n",
    "        -disease_definition: Definition of the disease (string)\n",
    "        -image_codes: Codes of the disease images (list of integers)\n",
    "    \"\"\"\n",
    "    \n",
    "    \n",
    "    url_part1 = 'https://www.dermis.net/dermisroot/'\n",
    "    url_part2 = '/diagnose.htm'\n",
    "    \n",
    "    # Download de page source\n",
    "    disease_page = requests.get(url_part1 + language + '/' + str(page_id) + url_part2)\n",
    "    \n",
    "    # Parse to BS\n",
    "    soup_disease = BeautifulSoup(disease_page.text,'html.parser')\n",
    "    \n",
    "    # Parse information\n",
    "    disease_definition = soup_disease.find_all('p',attrs={'class': None})[0].text\n",
    "    disease_name = soup_disease.find(class_='Container',attrs={'id': 'ctl00_Main_pnlMain'}).find('h2').text\n",
    "    images_links = soup_disease.find(class_='Container',attrs={'id': 'ctl00_Main_pnlMain'}).find_all('a')\n",
    "    \n",
    "    # Parse images\n",
    "    image_codes = []\n",
    "    for image in images_links:\n",
    "        image_codes.append(image.get('href').split('/')[-2])\n",
    "    \n",
    "    result = {'disease_name': disease_name,\n",
    "              'disease_definition': disease_definition,\n",
    "              'image_codes': image_codes}\n",
    "    \n",
    "    return(result)"
   ]
  },
  {
   "cell_type": "markdown",
   "metadata": {},
   "source": [
    "#### Iterating over pages and storing in SQLite database"
   ]
  },
  {
   "cell_type": "code",
   "execution_count": null,
   "metadata": {},
   "outputs": [],
   "source": [
    "db = dataset.connect('sqlite::///dermis.db')\n",
    "table = db['scrapped']\n",
    "\n",
    "for disease_code in codes:\n",
    "    for language in languages:\n",
    "        tmp = scrape_page(disease_code, language)\n",
    "        tmp['language'] = language\n",
    "        table.insert(tmp)\n",
    "        time.sleep(10)\n",
    "        "
   ]
  }
 ],
 "metadata": {
  "kernelspec": {
   "display_name": "Python 3",
   "language": "python",
   "name": "python3"
  },
  "language_info": {
   "codemirror_mode": {
    "name": "ipython",
    "version": 3
   },
   "file_extension": ".py",
   "mimetype": "text/x-python",
   "name": "python",
   "nbconvert_exporter": "python",
   "pygments_lexer": "ipython3",
   "version": "3.7.0"
  }
 },
 "nbformat": 4,
 "nbformat_minor": 2
}

{
 "cells": [
  {
   "cell_type": "code",
   "execution_count": 54,
   "metadata": {},
   "outputs": [],
   "source": [
    "import requests\n",
    "from bs4 import BeautifulSoup\n",
    "import dataset\n",
    "import time"
   ]
  },
  {
   "cell_type": "markdown",
   "metadata": {},
   "source": [
    "#### Mining main page containing the diseases"
   ]
  },
  {
   "cell_type": "code",
   "execution_count": 3,
   "metadata": {},
   "outputs": [],
   "source": [
    "# Retrieve the main page with all diseases\n",
    "main_page = requests.get('https://www.dermis.net/dermisroot/es/list/all/search.htm')\n",
    "# Parse into a BS object\n",
    "soup = BeautifulSoup(main_page.text,'html.parser')"
   ]
  },
  {
   "cell_type": "code",
   "execution_count": 15,
   "metadata": {},
   "outputs": [],
   "source": [
    "# Get all diseases in a list\n",
    "all_diseases = soup.find_all(class_='list')\n",
    "\n",
    "# List for disease codes\n",
    "codes = []\n",
    "for disease in all_diseases:\n",
    "    codes.append(disease.get('href').split('/')[-2])\n",
    "\n",
    "languages = ['tr','jp','pt','es','fr','de','en']\n",
    "\n"
   ]
  },
  {
   "cell_type": "markdown",
   "metadata": {},
   "source": [
    "#### Mining individual disease pages"
   ]
  },
  {
   "cell_type": "code",
   "execution_count": 53,
   "metadata": {},
   "outputs": [],
   "source": [
    "def scrape_page(page_id,language):\n",
    "    \"\"\"\n",
    "    Function to scrape individual pages from DermIS\n",
    "    Inputs:\n",
    "        -page_id: The ID of the disease\n",
    "        -language: Language of interest\n",
    "    Output: Dictionary with:\n",
    "        -disease_name: Name of the disease (string)\n",
    "        -disease_definition: Definition of the disease (string)\n",
    "        -image_codes: Codes of the disease images (list of integers)\n",
    "    \"\"\"\n",
    "    \n",
    "    \n",
    "    url_part1 = 'https://www.dermis.net/dermisroot/'\n",
    "    url_part2 = '/diagnose.htm'\n",
    "    \n",
    "    # Download de page source\n",
    "    disease_page = requests.get(url_part1 + language + '/' + str(page_id) + url_part2)\n",
    "    \n",
    "    # Parse to BS\n",
    "    soup_disease = BeautifulSoup(disease_page.text,'html.parser')\n",
    "    \n",
    "    # Parse information\n",
    "    disease_definition = soup_disease.find_all('p',attrs={'class': None})[0].text\n",
    "    \n",
    "    try:\n",
    "        disease_name = soup_disease.find(class_='Container',attrs={'id': 'ctl00_Main_pnlMain'}).find('h2').text\n",
    "    except:\n",
    "        disease_name = ''\n",
    "    \n",
    "    # Parse images\n",
    "    try:\n",
    "        images_links = soup_disease.find(class_='Container',attrs={'id': 'ctl00_Main_pnlMain'}).find_all('a')\n",
    "        \n",
    "        image_codes = []\n",
    "        for image in images_links:\n",
    "            image_codes.append(image.get('href').split('/')[-2])\n",
    "    except:\n",
    "        images_codes = []\n",
    "    \n",
    "    # Parse images\n",
    "    image_codes = []\n",
    "    for image in images_links:\n",
    "        image_codes.append(image.get('href').split('/')[-2])\n",
    "    \n",
    "    result = {'disease_name': disease_name,\n",
    "              'disease_definition': disease_definition,\n",
    "              'image_codes': image_codes}\n",
    "    \n",
    "    return(result)"
   ]
  },
  {
   "cell_type": "markdown",
   "metadata": {},
   "source": [
    "#### Iterating over pages and storing in SQLite database"
   ]
  },
  {
   "cell_type": "code",
   "execution_count": 58,
   "metadata": {},
   "outputs": [
    {
     "ename": "KeyboardInterrupt",
     "evalue": "",
     "output_type": "error",
     "traceback": [
      "\u001b[0;31m---------------------------------------------------------------------------\u001b[0m",
      "\u001b[0;31mKeyboardInterrupt\u001b[0m                         Traceback (most recent call last)",
      "\u001b[0;32m<ipython-input-58-b7a7fc228697>\u001b[0m in \u001b[0;36m<module>\u001b[0;34m()\u001b[0m\n\u001b[1;32m      9\u001b[0m         \u001b[0mtmp\u001b[0m\u001b[0;34m[\u001b[0m\u001b[0;34m'image_codes'\u001b[0m\u001b[0;34m]\u001b[0m \u001b[0;34m=\u001b[0m \u001b[0;34m''\u001b[0m\u001b[0;34m.\u001b[0m\u001b[0mjoin\u001b[0m\u001b[0;34m(\u001b[0m\u001b[0mtmp\u001b[0m\u001b[0;34m[\u001b[0m\u001b[0;34m'image_codes'\u001b[0m\u001b[0;34m]\u001b[0m\u001b[0;34m)\u001b[0m\u001b[0;34m\u001b[0m\u001b[0m\n\u001b[1;32m     10\u001b[0m         \u001b[0mtable\u001b[0m\u001b[0;34m.\u001b[0m\u001b[0minsert\u001b[0m\u001b[0;34m(\u001b[0m\u001b[0mtmp\u001b[0m\u001b[0;34m)\u001b[0m\u001b[0;34m\u001b[0m\u001b[0m\n\u001b[0;32m---> 11\u001b[0;31m         \u001b[0mtime\u001b[0m\u001b[0;34m.\u001b[0m\u001b[0msleep\u001b[0m\u001b[0;34m(\u001b[0m\u001b[0;36m10\u001b[0m\u001b[0;34m)\u001b[0m\u001b[0;34m\u001b[0m\u001b[0m\n\u001b[0m\u001b[1;32m     12\u001b[0m \u001b[0;34m\u001b[0m\u001b[0m\n",
      "\u001b[0;31mKeyboardInterrupt\u001b[0m: "
     ]
    }
   ],
   "source": [
    "db = dataset.connect('sqlite:///dermis.db')\n",
    "table = db['scrapped']\n",
    "languages = ['tr','jp','pt','es','fr','de','en']\n",
    "\n",
    "for disease_code in codes:\n",
    "    for language in languages:\n",
    "        tmp = scrape_page(disease_code, language)\n",
    "        tmp['disease_code'] = disease_code\n",
    "        tmp['language'] = language\n",
    "        tmp['image_codes'] = ' '.join(tmp['image_codes'])\n",
    "        table.insert(tmp)\n",
    "        time.sleep(10)\n",
    "        "
   ]
  }
 ],
 "metadata": {
  "kernelspec": {
   "display_name": "Python 3",
   "language": "python",
   "name": "python3"
  },
  "language_info": {
   "codemirror_mode": {
    "name": "ipython",
    "version": 3
   },
   "file_extension": ".py",
   "mimetype": "text/x-python",
   "name": "python",
   "nbconvert_exporter": "python",
   "pygments_lexer": "ipython3",
   "version": "3.7.0"
  }
 },
 "nbformat": 4,
 "nbformat_minor": 2
}
